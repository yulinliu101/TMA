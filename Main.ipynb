{
 "cells": [
  {
   "cell_type": "markdown",
   "metadata": {},
   "source": [
    "# This is the main program"
   ]
  },
  {
   "cell_type": "code",
   "execution_count": 1,
   "metadata": {
    "collapsed": false
   },
   "outputs": [],
   "source": [
    "import Get_All_Data\n",
    "import Get_TMA_Traj\n",
    "import Get_Visualization\n",
    "import Get_Reduced\n",
    "import Get_DPCluster\n",
    "import numpy as np\n",
    "import os\n",
    "# %matplotlib inline"
   ]
  },
  {
   "cell_type": "markdown",
   "metadata": {},
   "source": [
    "# Extract flight track from CTAS raw data"
   ]
  },
  {
   "cell_type": "code",
   "execution_count": null,
   "metadata": {
    "collapsed": false
   },
   "outputs": [],
   "source": [
    "Fopename = ['NASA_20150809.cm_sim','NASA_20150810_1.cm_sim','NASA_20150810_2.cm_sim','NASA_20150811.cm_sim',\n",
    "            'NASA_20150812_1.cm_sim','NASA_20150812_2.cm_sim','NASA_20150813.cm_sim','NASA_20150814.cm_sim','NASA_20150815.cm_sim']\n",
    "Get_All_Data.GetData(Fopename,'REC')\n",
    "Get_All_Data.GetData(Fopename,'ETA')\n",
    "Get_All_Data.GetData(Fopename,'STA')\n",
    "Get_All_Data.GetData(Fopename,'TRACK')"
   ]
  },
  {
   "cell_type": "markdown",
   "metadata": {},
   "source": [
    "# Extract Valid terminal procedure trajectories"
   ]
  },
  {
   "cell_type": "code",
   "execution_count": 52,
   "metadata": {
    "collapsed": false
   },
   "outputs": [
    {
     "name": "stdout",
     "output_type": "stream",
     "text": [
      "------ Constructing TMA Polygon -----\n",
      "------ Processing -----\n",
      "NASA_AC_DATA_20150809_07_07_17.csv\n",
      "------ Write to File -----\n",
      "NASA_AC_DATA_20150810_07_06_41.csv\n",
      "------ Write to File -----\n",
      "NASA_AC_DATA_20150811_07_06_59.csv\n",
      "------ Write to File -----\n",
      "NASA_AC_DATA_20150812_07_07_06.csv\n",
      "------ Write to File -----\n",
      "NASA_AC_DATA_20150813_07_07_02.csv\n",
      "------ Write to File -----\n",
      "NASA_AC_DATA_20150814_07_06_52.csv\n",
      "------ Write to File -----\n",
      "NASA_AC_DATA_20150815_07_06_53.csv\n",
      "------ Write to File -----\n",
      "------ Finish! -----\n"
     ]
    }
   ],
   "source": [
    "Fopename = ['NASA_20150809.cm_sim','NASA_20150810_1.cm_sim','NASA_20150810_2.cm_sim','NASA_20150811.cm_sim',\n",
    "            'NASA_20150812_1.cm_sim','NASA_20150812_2.cm_sim','NASA_20150813.cm_sim','NASA_20150814.cm_sim','NASA_20150815.cm_sim']\n",
    "a = Get_TMA_Traj.GetTMATraj(Fopename,FWAYPT='WayPoint.csv')\n",
    "a.OutputTMA(LandingZone = [32.8,33,-97.2,-96.9,300,1000])"
   ]
  },
  {
   "cell_type": "markdown",
   "metadata": {},
   "source": [
    "# Visualize trajectories for specific day"
   ]
  },
  {
   "cell_type": "code",
   "execution_count": 2,
   "metadata": {
    "collapsed": false
   },
   "outputs": [
    {
     "name": "stderr",
     "output_type": "stream",
     "text": [
      "E:\\Anaconda\\Anaconda\\lib\\site-packages\\matplotlib\\collections.py:590: FutureWarning: elementwise comparison failed; returning scalar instead, but in the future will perform elementwise comparison\n",
      "  if self._edgecolors == str('face'):\n"
     ]
    }
   ],
   "source": [
    "Get_Visualization.VisualizeTMA(DATE = ['20150809','20150810','20150815']) "
   ]
  },
  {
   "cell_type": "markdown",
   "metadata": {},
   "source": [
    "# Dimension Reduction (MDL) & Distance Matrix Construction (FastDTW)\n",
    "\n",
    "2 steps are required.\n",
    "1. MDL (efficient, around 2 minutes for all 4 groups)\n",
    "2. Distance Matrix (Computational hard, around 30 minutes for all 4 groups)"
   ]
  },
  {
   "cell_type": "code",
   "execution_count": 3,
   "metadata": {
    "collapsed": false
   },
   "outputs": [
    {
     "name": "stdout",
     "output_type": "stream",
     "text": [
      "4 group(s) with more than 200 trajectories Processed\n",
      "\n",
      "('GroupIndices are: ', [4, 38, 47, 87])\n",
      "\n",
      "You select the Auto mode to execute MDL and DistanceMatrix\n",
      "\n",
      "Please Specify the MDL shrinkage factor (1.0 ~ 2.0)...\n",
      "1.2\n",
      "\n",
      "------------ Auto Mode to MDL -----------\n",
      "Processing Group 4...\n",
      "Processing Group 38...\n",
      "Processing Group 47...\n",
      "Processing Group 87...\n"
     ]
    }
   ],
   "source": [
    "A = Get_Reduced.MDL_DP(['20150809','20150810','20150815'], Method='Auto')"
   ]
  },
  {
   "cell_type": "code",
   "execution_count": 4,
   "metadata": {
    "collapsed": false
   },
   "outputs": [
    {
     "name": "stdout",
     "output_type": "stream",
     "text": [
      "Comstructing Distance Matrix for Group 4...\n",
      "Comstructing Distance Matrix for Group 38...\n",
      "Comstructing Distance Matrix for Group 47...\n",
      "Comstructing Distance Matrix for Group 87...\n"
     ]
    },
    {
     "data": {
      "text/plain": [
       "'Auto Process Finished! See saved file in the directory ...\\\\DIST_MAT'"
      ]
     },
     "execution_count": 4,
     "metadata": {},
     "output_type": "execute_result"
    }
   ],
   "source": [
    "A.DistMat(Scheme = 'FastDTW')"
   ]
  },
  {
   "cell_type": "markdown",
   "metadata": {},
   "source": [
    "# Density Peak Clustering"
   ]
  },
  {
   "cell_type": "code",
   "execution_count": 3,
   "metadata": {
    "collapsed": false
   },
   "outputs": [],
   "source": [
    "TMA_DATA = Get_Reduced.LoadTMAdata(['20150809','20150810','20150815'])"
   ]
  },
  {
   "cell_type": "code",
   "execution_count": 4,
   "metadata": {
    "collapsed": false
   },
   "outputs": [
    {
     "name": "stdout",
     "output_type": "stream",
     "text": [
      "Plot Decision Graph\n",
      "x = 148.000000, y = 2.795992\n",
      "x = 122.000000, y = 0.158977\n",
      "('b', 'Num. of members 149')\n",
      "('g', 'Num. of members 130')\n",
      "Number of Outliers: 9.000000\n",
      "Percentage of Outliers: 3.125000%\n"
     ]
    }
   ],
   "source": [
    "DTW_Group_Dist = np.load(os.getcwd() + '\\DIST_MAT\\\\' + 'NEW_DTW_Group_Dist4.npy')\n",
    "Traj_Group_ACID = np.load(os.getcwd() + '\\DIST_MAT\\\\' + 'NEW_Traj_Group_ACID4.npy')\n",
    "OutRatio, Assignment = Get_DPCluster.Vis_DP(TMA_DATA,DTW_Group_Dist, Traj_Group_ACID, rho_c = 0.25, rho_c2 = 0.05,N = 2)\n",
    "print('Percentage of Outliers: %f%%' %(100*OutRatio))"
   ]
  },
  {
   "cell_type": "markdown",
   "metadata": {},
   "source": [
    "# Comparing with other Clustering Algorithms"
   ]
  },
  {
   "cell_type": "markdown",
   "metadata": {},
   "source": [
    "### 1. Apply Spectral Clustering Algorithm to Distance Matrix"
   ]
  },
  {
   "cell_type": "code",
   "execution_count": null,
   "metadata": {
    "collapsed": true
   },
   "outputs": [],
   "source": []
  },
  {
   "cell_type": "markdown",
   "metadata": {},
   "source": [
    "### 2. Apply PCA--Clustering Algorithm to Original Trajectories"
   ]
  },
  {
   "cell_type": "code",
   "execution_count": null,
   "metadata": {
    "collapsed": true
   },
   "outputs": [],
   "source": []
  }
 ],
 "metadata": {
  "kernelspec": {
   "display_name": "Python 2",
   "language": "python",
   "name": "python2"
  },
  "language_info": {
   "codemirror_mode": {
    "name": "ipython",
    "version": 2
   },
   "file_extension": ".py",
   "mimetype": "text/x-python",
   "name": "python",
   "nbconvert_exporter": "python",
   "pygments_lexer": "ipython2",
   "version": "2.7.11"
  }
 },
 "nbformat": 4,
 "nbformat_minor": 0
}
